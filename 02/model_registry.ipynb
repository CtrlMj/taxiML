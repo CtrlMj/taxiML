{
 "cells": [
  {
   "cell_type": "code",
   "execution_count": 1,
   "metadata": {},
   "outputs": [],
   "source": [
    "from mlflow.tracking import MlflowClient\n",
    "\n",
    "mlflow_tracking_uri = \"sqlite:///../mlflow.db\"\n",
    "client = MlflowClient(tracking_uri=mlflow_tracking_uri)"
   ]
  },
  {
   "cell_type": "code",
   "execution_count": 5,
   "metadata": {},
   "outputs": [
    {
     "data": {
      "text/plain": [
       "'3'"
      ]
     },
     "execution_count": 5,
     "metadata": {},
     "output_type": "execute_result"
    }
   ],
   "source": [
    "client.create_experiment(\"model_registry_experiment\")"
   ]
  },
  {
   "cell_type": "code",
   "execution_count": 2,
   "metadata": {},
   "outputs": [
    {
     "name": "stdout",
     "output_type": "stream",
     "text": [
      "ed3365ce6c7a473fa7f6bb12cf294e48, rmse: 0.100694699545293\n",
      "3139dc04d28249a9b469cb7775cf1cf8, rmse: 0.100694699545293\n",
      "8f785651d3744786991b02daa305f2ed, rmse: 0.100694699545293\n",
      "27504aedc0ed48aa9a5109550f08a027, rmse: 0.101063081544218\n",
      "9e0ac1d2e0bc4e88b8a17ebfb95803a3, rmse: 0.101100944842802\n"
     ]
    }
   ],
   "source": [
    "from mlflow.entities import ViewType\n",
    "runs = client.search_runs(\n",
    "    experiment_ids=2,\n",
    "    filter_string=\"\",\n",
    "    run_view_type=ViewType.ACTIVE_ONLY,\n",
    "    max_results=5,\n",
    "    order_by=[\"metric.rmse ASC\"]\n",
    "    )\n",
    "for run in runs:\n",
    "    print(f\"{run.info.run_id}, rmse: {run.data.metrics['rmse']:.15f}\")"
   ]
  },
  {
   "cell_type": "code",
   "execution_count": 3,
   "metadata": {},
   "outputs": [
    {
     "name": "stderr",
     "output_type": "stream",
     "text": [
      "/tmp/ipykernel_1905/1358372835.py:1: FutureWarning: ``mlflow.tracking.client.MlflowClient.get_latest_versions`` is deprecated since 2.9.0. Model registry stages will be removed in a future major release. To learn more about the deprecation of model registry stages, see our migration guide here: https://mlflow.org/docs/latest/model-registry.html#migrating-from-stages\n",
      "  client.get_latest_versions(name=\"nyctaxi-duration-model\")\n"
     ]
    },
    {
     "data": {
      "text/plain": [
       "[<ModelVersion: aliases=[], creation_timestamp=1737152402292, current_stage='Production', description='', last_updated_timestamp=1737153548092, name='nyctaxi-duration-model', run_id='ed3365ce6c7a473fa7f6bb12cf294e48', run_link='', source='/workspaces/taxiML/02/mlruns/2/ed3365ce6c7a473fa7f6bb12cf294e48/artifacts/models_mlflow', status='READY', status_message=None, tags={}, user_id=None, version=1>,\n",
       " <ModelVersion: aliases=[], creation_timestamp=1737153097261, current_stage='Staging', description='', last_updated_timestamp=1737153345698, name='nyctaxi-duration-model', run_id='5b887b8ceafd4ce2a8ddd218b42be769', run_link='', source='models:/nyctaxi-duration-model/3', status='READY', status_message=None, tags={}, user_id=None, version=4>,\n",
       " <ModelVersion: aliases=[], creation_timestamp=1737152502830, current_stage='Archived', description='', last_updated_timestamp=1737153548092, name='nyctaxi-duration-model', run_id='5b887b8ceafd4ce2a8ddd218b42be769', run_link='', source='/workspaces/taxiML/02/mlruns/2/5b887b8ceafd4ce2a8ddd218b42be769/artifacts/model', status='READY', status_message=None, tags={}, user_id=None, version=3>]"
      ]
     },
     "execution_count": 3,
     "metadata": {},
     "output_type": "execute_result"
    }
   ],
   "source": [
    "client.get_latest_versions(name=\"nyctaxi-duration-model\")"
   ]
  },
  {
   "cell_type": "code",
   "execution_count": 5,
   "metadata": {},
   "outputs": [
    {
     "name": "stderr",
     "output_type": "stream",
     "text": [
      "/tmp/ipykernel_1905/2183245769.py:3: FutureWarning: ``mlflow.tracking.client.MlflowClient.transition_model_version_stage`` is deprecated since 2.9.0. Model registry stages will be removed in a future major release. To learn more about the deprecation of model registry stages, see our migration guide here: https://mlflow.org/docs/latest/model-registry.html#migrating-from-stages\n",
      "  client.transition_model_version_stage(\n"
     ]
    },
    {
     "data": {
      "text/plain": [
       "<ModelVersion: aliases=[], creation_timestamp=1737152440299, current_stage='Production', description='model version 2 was transitioned to production on 2025-01-18', last_updated_timestamp=1737231839818, name='nyctaxi-duration-model', run_id='df330795a1cd45db9b7d70e37fd7aa6b', run_link='', source='/workspaces/taxiML/02/mlruns/2/df330795a1cd45db9b7d70e37fd7aa6b/artifacts/model', status='READY', status_message=None, tags={}, user_id=None, version=2>"
      ]
     },
     "execution_count": 5,
     "metadata": {},
     "output_type": "execute_result"
    }
   ],
   "source": [
    "from datetime import datetime\n",
    "\n",
    "client.transition_model_version_stage(\n",
    "    name=\"nyctaxi-duration-model\",\n",
    "    version=\"2\",\n",
    "    stage=\"Production\",\n",
    "    archive_existing_versions=False,\n",
    ")\n",
    "\n",
    "client.update_model_version(\n",
    "    name=\"nyctaxi-duration-model\",\n",
    "    version=2,\n",
    "    description=f\"model version 2 was transitioned to production on {datetime.today().date()}\"\n",
    ")"
   ]
  },
  {
   "cell_type": "code",
   "execution_count": 6,
   "metadata": {},
   "outputs": [
    {
     "data": {
      "text/plain": [
       "<Experiment: artifact_location='/workspaces/taxiML/02/mlruns/3', creation_time=1737154076133, experiment_id='3', last_update_time=1737154076133, lifecycle_stage='active', name='model_registry_experiment', tags={}>"
      ]
     },
     "execution_count": 6,
     "metadata": {},
     "output_type": "execute_result"
    }
   ],
   "source": [
    "client.get_experiment(3)"
   ]
  },
  {
   "cell_type": "code",
   "execution_count": 7,
   "metadata": {},
   "outputs": [
    {
     "name": "stderr",
     "output_type": "stream",
     "text": [
      "/workspaces/taxiML/02/utils.py:13: FutureWarning: A value is trying to be set on a copy of a DataFrame or Series through chained assignment using an inplace method.\n",
      "The behavior will change in pandas 3.0. This inplace method will never work because the intermediate object on which we are setting values always behaves as a copy.\n",
      "\n",
      "For example, when doing 'df[col].method(value, inplace=True)', try using 'df.method({col: value}, inplace=True)' or df[col] = df[col].method(value) instead, to perform the operation inplace on the original object.\n",
      "\n",
      "\n",
      "  data['trip_type'].fillna(data.trip_type.mode().item(), inplace=True)\n",
      "/workspaces/taxiML/02/utils.py:19: FutureWarning: A value is trying to be set on a copy of a DataFrame or Series through chained assignment using an inplace method.\n",
      "The behavior will change in pandas 3.0. This inplace method will never work because the intermediate object on which we are setting values always behaves as a copy.\n",
      "\n",
      "For example, when doing 'df[col].method(value, inplace=True)', try using 'df.method({col: value}, inplace=True)' or df[col] = df[col].method(value) instead, to perform the operation inplace on the original object.\n",
      "\n",
      "\n",
      "  data[\"PULat\"].fillna(data[\"PULat\"].mean(), inplace=True)\n",
      "/workspaces/taxiML/02/utils.py:20: FutureWarning: A value is trying to be set on a copy of a DataFrame or Series through chained assignment using an inplace method.\n",
      "The behavior will change in pandas 3.0. This inplace method will never work because the intermediate object on which we are setting values always behaves as a copy.\n",
      "\n",
      "For example, when doing 'df[col].method(value, inplace=True)', try using 'df.method({col: value}, inplace=True)' or df[col] = df[col].method(value) instead, to perform the operation inplace on the original object.\n",
      "\n",
      "\n",
      "  data[\"PULon\"].fillna(data[\"PULon\"].mean(), inplace=True)\n",
      "/workspaces/taxiML/02/utils.py:21: FutureWarning: A value is trying to be set on a copy of a DataFrame or Series through chained assignment using an inplace method.\n",
      "The behavior will change in pandas 3.0. This inplace method will never work because the intermediate object on which we are setting values always behaves as a copy.\n",
      "\n",
      "For example, when doing 'df[col].method(value, inplace=True)', try using 'df.method({col: value}, inplace=True)' or df[col] = df[col].method(value) instead, to perform the operation inplace on the original object.\n",
      "\n",
      "\n",
      "  data[\"DOLat\"].fillna(data[\"DOLat\"].mean(), inplace=True)\n",
      "/workspaces/taxiML/02/utils.py:22: FutureWarning: A value is trying to be set on a copy of a DataFrame or Series through chained assignment using an inplace method.\n",
      "The behavior will change in pandas 3.0. This inplace method will never work because the intermediate object on which we are setting values always behaves as a copy.\n",
      "\n",
      "For example, when doing 'df[col].method(value, inplace=True)', try using 'df.method({col: value}, inplace=True)' or df[col] = df[col].method(value) instead, to perform the operation inplace on the original object.\n",
      "\n",
      "\n",
      "  data[\"DOLon\"].fillna(data[\"DOLon\"].mean(), inplace=True)\n"
     ]
    }
   ],
   "source": [
    "from sklearn.metrics import root_mean_squared_error\n",
    "import pandas as pd\n",
    "from utils import preprocess\n",
    "\n",
    "test_data = pd.read_parquet(\"/workspaces/taxiML/data/green_tripdata_2021-03.parquet\")\n",
    "x, label = preprocess(test_data)"
   ]
  },
  {
   "cell_type": "code",
   "execution_count": null,
   "metadata": {},
   "outputs": [],
   "source": []
  }
 ],
 "metadata": {
  "kernelspec": {
   "display_name": "Python 3",
   "language": "python",
   "name": "python3"
  },
  "language_info": {
   "codemirror_mode": {
    "name": "ipython",
    "version": 3
   },
   "file_extension": ".py",
   "mimetype": "text/x-python",
   "name": "python",
   "nbconvert_exporter": "python",
   "pygments_lexer": "ipython3",
   "version": "3.12.1"
  }
 },
 "nbformat": 4,
 "nbformat_minor": 2
}
